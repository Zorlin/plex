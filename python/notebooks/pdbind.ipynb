{
  "cells": [
    {
      "cell_type": "raw",
      "metadata": {},
      "source": [
        "---\n",
        "title: Decentralised storage and compute enable highly reproducible Benchmarks for Machine Learning in Biology\n",
        "author:\n",
        "  - name: Josh McMenemy\n",
        "    affiliation: LabDAO\n",
        "  - name: Aakaash Meduri\n",
        "    affiliation: LabDAO\n",
        "  - name: Lily Hansen-Gilis\n",
        "    affiliation: LabDAO\n",
        "  - name: Isabel Thompson\n",
        "    affiliation: LabDAO\n",
        "  - name: Niklas Rindtorff\n",
        "    affiliation: LabDAO\n",
        "citation:\n",
        "  type: article-journal\n",
        "  container-title: LabDAO Communications\n",
        "  url: 'https://example.com/summarizing-output'\n",
        "format:\n",
        "  html:\n",
        "    code-fold: true\n",
        "---"
      ],
      "id": "8fbeaf58"
    },
    {
      "cell_type": "markdown",
      "metadata": {},
      "source": [
        "## Significance\n",
        "Reliable comparison of model performance is an important component of machine learning research. Creating shared truths about model performance relies on 1) versioned and public benchmark data, 2) open, and highly reproducible evaluation metrics, as well as ideally 3) open, and accessible models. \n",
        "\n",
        "Here, we provide an example of how PLEX - an open source decentralised compute and storage platform - can enable highly reproducible model performance benchmarks. We compare two recently published machine learning based docking algorithms on the time-split PDBind data initially proposed by Stärk et al. We demonstrate reproducibility of previously published pose accuracy results and open up new ways for the wider community to run these models with custom inputs. \n",
        "\n",
        "::: {.callout-tip}\n",
        "## Reproducibility\n",
        "\n",
        "This micropublication is fully reproducible Quarto document that can be run as a Jupyter Notebook or Rmarkdown notebook. Intense computational workloads, such as the benchmarking of models, is run through PLEX.\n",
        "\n",
        "In order to run this notebook, you will need: \n",
        "\n",
        "* PLEX installed on your device\n",
        "* PDBBind benchmark data downloaded from [Stärk et al.](https://zenodo.org/record/6408497)\n",
        "* PDBBind affinity data downloaded from the official [website](https://pdbbind.oss-cn-hangzhou.aliyuncs.com/download/PDBbind_v2020_plain_text_index.tar.gz)\n",
        "\n",
        "Head to the LabDAO [docs](docs.labdao.xyz) to learn more about how to install, use, and contribute to PLEX.\n",
        ":::\n",
        "\n",
        "## Introduction\n",
        "## Methods\n",
        "### PLEX setup\n",
        "PLEX binaries are installed and a simple python SDK was use to pass instructions from python to the go binaries.\n",
        "\n",
        "import os\n",
        "import sys\n",
        "import importlib\n"
      ],
      "id": "5986a165"
    },
    {
      "cell_type": "code",
      "metadata": {},
      "source": [
        "# loading packages\n",
        "import csv\n",
        "import os\n",
        "import json\n",
        "import sys\n",
        "import importlib\n",
        "import pandas as pd\n",
        "import copy\n",
        "\n",
        "# this can disapear once plex is a pip package\n",
        "module_path = os.path.abspath(os.path.join('..'))\n",
        "if module_path not in sys.path:\n",
        "    sys.path.append(module_path)\n",
        "import plex.sdk\n",
        "importlib.reload(plex.sdk)\n",
        "\n",
        "os.environ[\"PLEX_ACCESS_TOKEN\"] = \"mellon\"\n",
        "os.environ[\"PLEX_ENV\"] = \"stage\""
      ],
      "id": "485b8498",
      "execution_count": null,
      "outputs": []
    },
    {
      "cell_type": "markdown",
      "metadata": {},
      "source": [
        "### PDBBind benchmark\n",
        "The complete PDBBind dataset was retrieved from and processed locally. Entried which were part of the time-split PDBBind test data were identified based on a table published in Corso et al.\n",
        "\n",
        "### Pose generation\n",
        "PLEX is a platform to execute pre-configured computational graphs. The definition of computational graphs and tools in PLEX takes inspiration from the common workflow language. Computational graphs are simple JSON dictionaries, which specify the input, tool, and output of a task. Multiple of such triplets can be combined into larger graphs to create simple workflows. \n",
        "\n",
        "Two computational graphs for Equibind and Diffdock were created based on the testdata definitions within PDBBind.\n"
      ],
      "id": "1e719ae8"
    },
    {
      "cell_type": "code",
      "metadata": {},
      "source": [
        "def create_pdbind_io_dict(csv_path, tool_path):\n",
        "    io_data = []\n",
        "    \n",
        "    with open(csv_path, 'r') as csvfile:\n",
        "        csvreader = csv.DictReader(csvfile)\n",
        "        \n",
        "        for row in csvreader:\n",
        "            protein_path = os.path.join(\"/home/ubuntu/\", row['protein_path'])\n",
        "            ligand_path = os.path.join(\"/home/ubuntu/\", row['ligand_description'])\n",
        "            \n",
        "            if not os.path.exists(protein_path) or not os.path.exists(ligand_path):\n",
        "                print(f\"Skipping row {row['complex_name']} due to missing file(s).\")\n",
        "                continue\n",
        "            \n",
        "            entry = {\n",
        "                \"tool\": tool_path,\n",
        "                \"inputs\": {\n",
        "                    \"protein\": {\n",
        "                        \"class\": \"File\",\n",
        "                        \"filepath\": protein_path\n",
        "                    },\n",
        "                    \"small_molecule\": {\n",
        "                        \"class\": \"File\",\n",
        "                        \"filepath\": ligand_path\n",
        "                    }\n",
        "                },\n",
        "                \"outputs\": {\n",
        "                    \"best_docked_small_molecule\": {\n",
        "                        \"class\": \"File\",\n",
        "                        \"filepath\": \"\"\n",
        "                    },\n",
        "                    \"protein\": {\n",
        "                        \"class\": \"File\",\n",
        "                        \"filepath\": \"\"\n",
        "                    }\n",
        "                },\n",
        "                \"state\": \"created\",\n",
        "                \"errMsg\": \"\"\n",
        "            }\n",
        "            \n",
        "            io_data.append(entry)\n",
        "    \n",
        "    return io_data\n",
        "\n",
        "# Example usage\n",
        "io_sig_equibind = create_pdbind_io_dict(csv_path = '/home/ubuntu/datasets/diffdock_testdata.csv', tool_path= \"tools/equibind.json\")\n",
        "io_sig_diffdock = create_pdbind_io_dict(csv_path = '/home/ubuntu/datasets/diffdock_testdata.csv', tool_path= \"tools/diffdock.json\")"
      ],
      "id": "94001d74",
      "execution_count": null,
      "outputs": []
    },
    {
      "cell_type": "markdown",
      "metadata": {},
      "source": [
        "Below is an example computational graph for the Equibind model.\n"
      ],
      "id": "ccb9f24d"
    },
    {
      "cell_type": "code",
      "metadata": {},
      "source": [
        "# display a set of examples\n",
        "print(io_sig_equibind[:1])"
      ],
      "id": "1f369907",
      "execution_count": null,
      "outputs": []
    },
    {
      "cell_type": "code",
      "metadata": {},
      "source": [
        "#| warning: false\n",
        "#| echo: false\n",
        "from plex.sdk import run_plex\n",
        "run_plex(io_sig_equibind, concurrency=5)\n",
        "run_plex(io_sig_diffdock, concurrency=5)"
      ],
      "id": "d098b9be",
      "execution_count": null,
      "outputs": []
    }
  ],
  "metadata": {
    "kernelspec": {
      "name": "python3",
      "language": "python",
      "display_name": "Python 3 (ipykernel)"
    }
  },
  "nbformat": 4,
  "nbformat_minor": 5
}